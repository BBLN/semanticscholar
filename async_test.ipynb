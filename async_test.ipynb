{
 "cells": [
  {
   "cell_type": "code",
   "execution_count": 26,
   "metadata": {},
   "outputs": [],
   "source": [
    "import asyncio\n",
    "import time\n",
    "from semanticscholar.SemanticScholar import SemanticScholar\n",
    "from semanticscholar.AsyncSemanticScholar import AsyncSemanticScholar\n",
    "\n",
    "sch = SemanticScholar()\n",
    "async_sch = AsyncSemanticScholar()"
   ]
  },
  {
   "cell_type": "code",
   "execution_count": 27,
   "metadata": {},
   "outputs": [],
   "source": [
    "def sync_requests():\n",
    "    start_time = time.time()\n",
    "    for i in range(10):\n",
    "        paper = sch.get_paper('10.1093/mind/lix.236.433')\n",
    "    end_time = time.time()\n",
    "    return end_time - start_time\n",
    "    "
   ]
  },
  {
   "cell_type": "code",
   "execution_count": 28,
   "metadata": {},
   "outputs": [],
   "source": [
    "async def async_requests():\n",
    "    start_time = time.time()\n",
    "    papers = []\n",
    "    for i in range(10):\n",
    "        papers.append(async_sch.get_paper('10.1093/mind/lix.236.433'))\n",
    "    papers = await asyncio.gather(*papers)\n",
    "    end_time = time.time()\n",
    "    return end_time - start_time"
   ]
  },
  {
   "cell_type": "code",
   "execution_count": 29,
   "metadata": {},
   "outputs": [
    {
     "name": "stdout",
     "output_type": "stream",
     "text": [
      "Sync requests time elapsed: 20.227399349212646\n",
      "Async requests time elapsed: 8.414027452468872\n"
     ]
    }
   ],
   "source": [
    "print(\"Sync requests time elapsed: {}\".format(sync_requests()))\n",
    "print(\"Async requests time elapsed: {}\".format(await async_requests()))"
   ]
  },
  {
   "cell_type": "code",
   "execution_count": 14,
   "metadata": {},
   "outputs": [],
   "source": [
    "r = await results2"
   ]
  },
  {
   "cell_type": "code",
   "execution_count": 18,
   "metadata": {},
   "outputs": [
    {
     "name": "stdout",
     "output_type": "stream",
     "text": [
      "heythere\n"
     ]
    }
   ],
   "source": [
    "r2 = r.next_page()\n",
    "print(\"heythere\")\n",
    "await r2"
   ]
  },
  {
   "cell_type": "code",
   "execution_count": 11,
   "metadata": {},
   "outputs": [
    {
     "name": "stdout",
     "output_type": "stream",
     "text": [
      "hey\n",
      "Computing Machinery and Intelligence\n",
      "Artificial intelligence in the research of consciousness and in social life (in honor of 70-years anniversary of A. Turing’s paper “Computing Machinery and Intelligence” (papers of the “round table”)\n",
      "Studies on computing machinery and intelligence\n",
      "On Computing Machinery and Intelligence\n",
      "Computing Machinery and Intelligence\n",
      "Alan Turing’s “Computing Machinery and Intelligence”\n",
      "Computing Machinery and Intelligence A.M. Turing\n",
      "Computing Machinery and Intelligence\n",
      "The Annotation Game: On Turing (1950) on Computing, Machinery, and Intelligence (PUBLISHED VERSION BOWDLERIZED)\n",
      "Computing Machinery and Intelligence Mind Vol. 59\n",
      "Computing Machinery and Intelligence (1950)\n",
      "Computing Machinery and Intelligence Amplification\n",
      "Alan Turing’s “Computing Machinery and Intelligence”\n",
      "Computing machinery and intelligence . 1950 Universal Turing\n",
      "Computing Machinery and Intelligence\n",
      "Commentary on Turing's \"Computing Machinery and Intelligence\"\n",
      "Computing Machinery and Intelligence'¡ I¿ Mind¡/i¿ 59 Universal Turing Machine\n",
      "Computing Machinery and Intelligence 1. the Imitation Game\n",
      "Mind a Quarterly Review Psychology and Philosophy I.—computing Machinery and Intelligence\n",
      "Computing machinery and intelligence\n",
      "Computing machinery and intelligence Universal Turing Machine\n",
      "Alan Turing : Computing Machinery and Intelligence(20世紀の名著名論)\n",
      "20世紀の名著名論:Alan Turing : Computing Machinery and Intelligence\n",
      "Computing Machinery and Knowledge\n",
      "An Enhance the Performance of Mining Vehicular and Machinery Security Systems Using Artificial Intelligence in VANET Cloud Computing\n",
      "An Examination of How Robots, Artificial Intelligence, and Machinery Learning are Being Applied in the Medical and Healthcare Industries\n",
      "Computing Machinery, Intelligence and Undecidability\n",
      "Intelligent fault diagnostic system for rotating machinery based on IoT with cloud computing and artificial intelligence techniques: a review\n",
      "Cloud Computing Operation Management Platform for Internet of Things of Construction Machinery\n",
      "Data Mining Technology for Agricultural Equipment Machinery and Information Network Data Resources\n",
      "ARTIFICIAL INTELLIGENCE: AN ANALYSIS OF ALAN TURING’S ROLE IN THE CONCEPTION AND DEVELOPMENT OF INTELLIGENT MACHINERY\n",
      "Computing machinery and creativity: lessons learned from the Turing test\n",
      "Mechanical Machinery Faults Detection and Classification Based on Artificial Intelligence Techniques\n",
      "From Equilibrium-Based Business Intelligence to Information Conservational Quantum-Fuzzy Cryptography—A Cellular Transformation of Bipolar Fuzzy Sets to Quantum Intelligence Machinery\n",
      "In Cooperation with Aaai – Association for the Advancement of Artificial Intelligence Euromicro Acm – Association for Computing Machinery Acm Sigart – Association for Computing Machinery / Special Interest Group on Artificial Intelligence\n",
      "Applications of Explainable Artificial Intelligence in Diagnosis and Surgery\n",
      "A Review of Using Artificial Intelligence and Machine Learning in Food and Agriculture Industry\n",
      "Proceedings of the Association for Computing Machinery Special Interest Group for Ada Artificial Intelligence Working Group, 1992 Summer Workshop Held in Seattle, Washington on June 24-27, 1992\n",
      "Computing machinery and morality\n",
      "Artificial Intelligence-based Internet of Things for Industry 5 . 0\n",
      "Software Package for Remote Diagnostics of Agricultural Machinery Condition\n",
      "Prior Knowledge-Embedded Machine Learning-Driven Cutting Force Monitoring in Machinery Industry\n",
      "Combating COVID-19 Using Generative Adversarial Networks and Artificial Intelligence for Medical Images: Scoping Review\n",
      "Implementing an Artificial Intelligence based Ideal form of Virtual Personal Assistant Design for Various Communication Medium\n",
      "Machinery fault diagnosis based on a modified hybrid deep sparse autoencoder using a raw vibration time-series signal\n",
      "Artificial Intelligence for Detecting and Quantifying Fatty Liver in Ultrasound Images: A Systematic Review\n",
      "Optimal Design of Sliding Bearings Based on Artificial Intelligence Algorithm and CFD Simulation\n",
      "Explainable artificial intelligence models using real-world electronic health record data: a systematic scoping review\n",
      "Artificial intelligence in healthcare: Setting new algo RHYTHM in medicine\n",
      "Artificial intelligence in ophthalmology - Machines think!\n",
      "GeoAI at ACM SIGSPATIAL: The New Frontier of Geospatial Artificial Intelligence Research\n",
      "Prediction of the Remaining Useful Life of Rotating Machinery using a Hybrid PSO-ANN Model\n",
      "Grow of Artificial Intelligence to Challenge Security in IoT Application\n",
      "The use of advanced soft computing for machinery condition monitoring\n",
      "Design of Gearbox Monitoring System Based on Edge Computing\n",
      "On the issue of analyzing the technical condition of agricultural machinery using neural networks\n",
      "Application of artificial intelligence for diagnosis of pancreatic ductal adenocarcinoma by EUS: A systematic review and meta-analysis\n",
      "Study of the strategy for agricultural machinery maintenance in China based on the improved genetic-bee colony algorithm\n",
      "Advances in Theory and Applications of Artificial Intelligence\n",
      "Preface: 2023 International Conference on Algorithms, Mathematical Modeling and Machinery Processing (AMMMP 2023)\n",
      "Prognostics and Health Management of Rotating Machinery via Quantum Machine Learning\n",
      "A High-Level Overview of Artificial Intelligence: Historical Overview and Emerging Developments\n",
      "Towards a green AI: evolutionary solutions for an ecologically viable artificial intelligence\n",
      "ChatGPT, artificial intelligence and scientific writing: What authors, peer reviewers and editors should know\n",
      "1 What Is Artificial Intelligence\n",
      "Artificial Intelligence in Supply Chain Management in Industry 4.0\n",
      "Artificial Intelligence and Bank Supervision FEDER AL RESERVE\n",
      "Research and Application of Agricultural Greenhouse Intelligence Platform Based on IoT ( Internet of Things ) and Cloud Computing\n",
      "Application Scenarios for Artificial Intelligence in Nursing Care: Rapid Review\n",
      "If AI machine cannot think, can QI machine think?—from negative numbers to quantum intelligence for mind-light-matter unity\n",
      "Artificial Intelligence for Skin Cancer Detection: Scoping Review\n",
      "Artificial Creative Intelligence: Breaking the Imitation Barrier\n",
      "Leveraging Intelligent Computation Offloading with Fog/Edge Computing for Tactile Internet: Advantages and Limitations\n",
      "AmIIoTE: Ambient Intelligence in Internet of Things Environments\n",
      "International Journal of Soft Computing and Engineering\n",
      "Research on Fan Machinery Intelligence Fault Diagnosis System of Datum-Fusional Neural Network\n",
      "Brain-Mind Machinery: Brain-Inspired Computing and Mind Opening\n",
      "Analysis of the use of computational intelligence techniques for air-conditioning systems: A systematic mapping study\n",
      "A semi-holographic hyperdimensional representation system for hardware-friendly cognitive computing\n",
      "Beidou navigation method based on intelligent computing and extended Kalman filter fusion\n",
      "Rotating Machinery Fault Diagnosis Based on Neurofuzzy Computing\n",
      "The Essential Turing: Seminal Writings in Computing, Logic, Philosophy, Artificial Intelligence, and Artificial Life plus The Secrets of Enigma\n",
      "AI in the UK: A Short History In Wendy Hall & Jérôme Pesenti, GROWING THE ARTIFICIAL INTELLIGENCE INDUSTRY IN THE UK pp.18-20\n",
      "Smart Farming: Internet of Things (IoT)-Based Sustainable Agriculture\n",
      "Beidou navigation method based on intelligent computing and extended Kalman filter fusion\n",
      "A Survey of Machine and Deep Learning Methods for Internet of Things (IoT) Security\n",
      "A Survey on Distributed Machine Learning\n",
      "Diversity Measures in Classifier Ensembles Used for Rotating Machinery Fault Diagnosis\n",
      "Fifteenth International Conference on Artificial Intelligence and Law (ICAIL 2015)\n",
      "Intelligent Computing for Vehicle Form Design: A Case Study of Sand Making Machine\n",
      "A bearing fault diagnosis model based on CNN with wide convolution kernels\n",
      "Energy Efficiency Modeling Using Whale Optimization Algorithm and Ensemble Model\n",
      "A Lesson From AI: Ethics Is Not an Imitation Game\n",
      "From Turing to Conscious Machines\n",
      "A First Look at the ACM/IEEE-CS/AAAI Computer Science Curricula (CS202X)\n",
      "Human or Machine: Reflections on Turing-Inspired Testing for the Everyday\n",
      "Artificial Intelligence in Medicine\n",
      "Milind Tambe on game theory in security applications | Machine Intelligence Research Institute\n",
      "Alan Turing (1912–1954)\n",
      "APPLICATIONS OF MACHINE LEARNING ANDAUXILIARY TUMOR TREATMENT IN THE PROCESS OF MEDICAL RESOURCE ALLOCATION\n"
     ]
    },
    {
     "name": "stderr",
     "output_type": "stream",
     "text": [
      "C:\\Users\\Heichous\\AppData\\Local\\Temp\\ipykernel_23520\\4103091883.py:2: RuntimeWarning: coroutine 'AsyncSemanticScholar.search_paper' was never awaited\n",
      "  results2 = sch.search_paper('Computing Machinery and Intelligence')\n",
      "RuntimeWarning: Enable tracemalloc to get the object allocation traceback\n"
     ]
    }
   ],
   "source": [
    "results = sch.search_paper('Computing Machinery and Intelligence')\n",
    "results2 = sch.search_paper('Computing Machinery and Intelligence')\n",
    "print(\"hey\")\n"
   ]
  },
  {
   "cell_type": "code",
   "execution_count": 29,
   "metadata": {},
   "outputs": [],
   "source": [
    "def make_sync_request():\n",
    "    r = requests.get(\"https://api.semanticscholar.org/graph/v1/paper/autocomplete?query=semanti\")\n",
    "    return r\n",
    "\n",
    "async def make_async_request():\n",
    "    print(\"started\")\n",
    "    async with httpx.AsyncClient() as client:\n",
    "        r = await client.get(\"https://api.semanticscholar.org/graph/v1/paper/autocomplete?query=semanti\")\n",
    "    print(\"finished\")\n",
    "    return r"
   ]
  },
  {
   "cell_type": "code",
   "execution_count": 6,
   "metadata": {},
   "outputs": [
    {
     "name": "stdout",
     "output_type": "stream",
     "text": [
      "hey\n",
      "there\n",
      "started\n",
      "started\n",
      "finished\n",
      "finished\n"
     ]
    },
    {
     "data": {
      "text/plain": [
       "[<Response [200 OK]>, <Response [200 OK]>]"
      ]
     },
     "execution_count": 6,
     "metadata": {},
     "output_type": "execute_result"
    }
   ],
   "source": [
    "print(\"hey\")\n",
    "promises = [make_async_request(), make_async_request()]\n",
    "print(\"there\")\n",
    "await(asyncio.gather(*promises))"
   ]
  },
  {
   "cell_type": "code",
   "execution_count": 8,
   "metadata": {},
   "outputs": [
    {
     "data": {
      "text/plain": [
       "<coroutine object make_async_request at 0x000001AF62063990>"
      ]
     },
     "execution_count": 8,
     "metadata": {},
     "output_type": "execute_result"
    }
   ],
   "source": [
    "promises[0]"
   ]
  },
  {
   "cell_type": "code",
   "execution_count": null,
   "metadata": {},
   "outputs": [
    {
     "ename": "TypeError",
     "evalue": "'_GatheringFuture' object is not subscriptable",
     "output_type": "error",
     "traceback": [
      "\u001b[1;31m---------------------------------------------------------------------------\u001b[0m",
      "\u001b[1;31mTypeError\u001b[0m                                 Traceback (most recent call last)",
      "Cell \u001b[1;32mIn[9], line 1\u001b[0m\n\u001b[1;32m----> 1\u001b[0m asyncio\u001b[39m.\u001b[39;49mgather(\u001b[39m*\u001b[39;49mpromises)[\u001b[39m0\u001b[39;49m]\n",
      "\u001b[1;31mTypeError\u001b[0m: '_GatheringFuture' object is not subscriptable"
     ]
    },
    {
     "name": "stderr",
     "output_type": "stream",
     "text": [
      "_GatheringFuture exception was never retrieved\n",
      "future: <_GatheringFuture finished exception=RuntimeError('cannot reuse already awaited coroutine')>\n",
      "RuntimeError: cannot reuse already awaited coroutine\n"
     ]
    }
   ],
   "source": [
    "asyncio.gather(*promises)[0]"
   ]
  },
  {
   "cell_type": "code",
   "execution_count": 30,
   "metadata": {},
   "outputs": [
    {
     "name": "stdout",
     "output_type": "stream",
     "text": [
      "started\n",
      "finished\n"
     ]
    }
   ],
   "source": [
    "result = await make_async_request()"
   ]
  },
  {
   "cell_type": "code",
   "execution_count": 32,
   "metadata": {},
   "outputs": [
    {
     "data": {
      "text/plain": [
       "{'matches': [{'id': '39ad6c911f3351a3b390130a6e4265355b4d593b',\n",
       "   'authorsYear': 'Chen et al., 2015',\n",
       "   'title': 'Semantic Image Segmentation with Deep Convolutional Nets and Fully Connected CRFs'},\n",
       "  {'id': 'a0e3dd2480d2a3e90e0f04b6362a676cb047b85a',\n",
       "   'authorsYear': 'Jackendoff, 1972',\n",
       "   'title': 'Semantic Interpretation in Generative Grammar'},\n",
       "  {'id': '6b64e068a8face2540fc436af40dbcd2b0912bbf',\n",
       "   'authorsYear': 'Jiang et al., 1997',\n",
       "   'title': 'Semantic Similarity Based on Corpus Statistics and Lexical Taxonomy'},\n",
       "  {'id': '0dc0d0cfebc2ea1f88c64a159a76d0cb8258bff9',\n",
       "   'authorsYear': 'Heim et al., 1998',\n",
       "   'title': 'Semantics in generative grammar'},\n",
       "  {'id': '615ca07b07ed52d73c87c9a67102355fa9d6d39d',\n",
       "   'authorsYear': 'Neely, 1977',\n",
       "   'title': 'Semantic priming and retrieval from lexical memory: Roles of inhibitionless spreading activation and limited-capacity attention.'},\n",
       "  {'id': '7d32e764672117c2d5bce2c69dee737c6e88b719',\n",
       "   'authorsYear': 'Paolucci et al., 2002',\n",
       "   'title': 'Semantic Matching of Web Services Capabilities'},\n",
       "  {'id': '4e89ac6de1ed1c63f26168b1afea9b64e0c766f4',\n",
       "   'authorsYear': 'Resnik, 1999',\n",
       "   'title': 'Semantic Similarity in a Taxonomy: An Information-Based Measure and its Application to Problems of Ambiguity in Natural Language'},\n",
       "  {'id': 'dd3820f5cec3d37d32e7c3916158e2910e6c1808',\n",
       "   'authorsYear': 'Neely, 1991',\n",
       "   'title': 'Semantic priming effects in visual word recognition: A selective review of current findings and theories.'},\n",
       "  {'id': 'a1a19aaddf57c0546357d890d9269092ba0afb26',\n",
       "   'authorsYear': 'Park et al., 2019',\n",
       "   'title': 'Semantic Image Synthesis With Spatially-Adaptive Normalization'},\n",
       "  {'id': '5966d7c7f60898d610812e24c64d4d57855ad86a',\n",
       "   'authorsYear': 'Caliskan et al., 2017',\n",
       "   'title': 'Semantics derived automatically from language corpora contain human-like biases'}]}"
      ]
     },
     "execution_count": 32,
     "metadata": {},
     "output_type": "execute_result"
    }
   ],
   "source": [
    "result.json()"
   ]
  },
  {
   "cell_type": "code",
   "execution_count": 21,
   "metadata": {},
   "outputs": [
    {
     "data": {
      "text/plain": [
       "{'matches': [{'id': '39ad6c911f3351a3b390130a6e4265355b4d593b',\n",
       "   'authorsYear': 'Chen et al., 2015',\n",
       "   'title': 'Semantic Image Segmentation with Deep Convolutional Nets and Fully Connected CRFs'},\n",
       "  {'id': 'a0e3dd2480d2a3e90e0f04b6362a676cb047b85a',\n",
       "   'authorsYear': 'Jackendoff, 1972',\n",
       "   'title': 'Semantic Interpretation in Generative Grammar'},\n",
       "  {'id': '6b64e068a8face2540fc436af40dbcd2b0912bbf',\n",
       "   'authorsYear': 'Jiang et al., 1997',\n",
       "   'title': 'Semantic Similarity Based on Corpus Statistics and Lexical Taxonomy'},\n",
       "  {'id': '0dc0d0cfebc2ea1f88c64a159a76d0cb8258bff9',\n",
       "   'authorsYear': 'Heim et al., 1998',\n",
       "   'title': 'Semantics in generative grammar'},\n",
       "  {'id': '615ca07b07ed52d73c87c9a67102355fa9d6d39d',\n",
       "   'authorsYear': 'Neely, 1977',\n",
       "   'title': 'Semantic priming and retrieval from lexical memory: Roles of inhibitionless spreading activation and limited-capacity attention.'},\n",
       "  {'id': '7d32e764672117c2d5bce2c69dee737c6e88b719',\n",
       "   'authorsYear': 'Paolucci et al., 2002',\n",
       "   'title': 'Semantic Matching of Web Services Capabilities'},\n",
       "  {'id': '4e89ac6de1ed1c63f26168b1afea9b64e0c766f4',\n",
       "   'authorsYear': 'Resnik, 1999',\n",
       "   'title': 'Semantic Similarity in a Taxonomy: An Information-Based Measure and its Application to Problems of Ambiguity in Natural Language'},\n",
       "  {'id': 'dd3820f5cec3d37d32e7c3916158e2910e6c1808',\n",
       "   'authorsYear': 'Neely, 1991',\n",
       "   'title': 'Semantic priming effects in visual word recognition: A selective review of current findings and theories.'},\n",
       "  {'id': 'a1a19aaddf57c0546357d890d9269092ba0afb26',\n",
       "   'authorsYear': 'Park et al., 2019',\n",
       "   'title': 'Semantic Image Synthesis With Spatially-Adaptive Normalization'},\n",
       "  {'id': '5966d7c7f60898d610812e24c64d4d57855ad86a',\n",
       "   'authorsYear': 'Caliskan et al., 2017',\n",
       "   'title': 'Semantics derived automatically from language corpora contain human-like biases'}]}"
      ]
     },
     "execution_count": 21,
     "metadata": {},
     "output_type": "execute_result"
    }
   ],
   "source": [
    "make_sync_request().json()"
   ]
  },
  {
   "cell_type": "code",
   "execution_count": null,
   "metadata": {},
   "outputs": [],
   "source": []
  }
 ],
 "metadata": {
  "kernelspec": {
   "display_name": ".venv",
   "language": "python",
   "name": "python3"
  },
  "language_info": {
   "codemirror_mode": {
    "name": "ipython",
    "version": 3
   },
   "file_extension": ".py",
   "mimetype": "text/x-python",
   "name": "python",
   "nbconvert_exporter": "python",
   "pygments_lexer": "ipython3",
   "version": "3.10.6"
  },
  "orig_nbformat": 4
 },
 "nbformat": 4,
 "nbformat_minor": 2
}
